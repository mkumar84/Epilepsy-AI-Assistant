{
 "cells": [
  {
   "cell_type": "code",
   "execution_count": 24,
   "metadata": {},
   "outputs": [
    {
     "name": "stdout",
     "output_type": "stream",
     "text": [
      "Error scraping https://www.epilepsy.com/: 403 Client Error: Forbidden for url: https://www.epilepsy.com/\n",
      "Error scraping https://www.who.int/news-room/fact-sheets/detail/epilepsyhttps://epilepsyontario.org/about-epilepsy/frequently-asked-questions/: 403 Client Error: Forbidden for url: https://www.who.int/news-room/fact-sheets/detail/epilepsyhttps://epilepsyontario.org/about-epilepsy/frequently-asked-questions/\n",
      "Scraping completed and saved to epilepsy_data.txt\n"
     ]
    }
   ],
   "source": [
    "import requests\n",
    "from bs4 import BeautifulSoup\n",
    "\n",
    "# List of epilepsy-related websites\n",
    "urls = [\n",
    "    \"https://epilepsysociety.org.uk/\",\n",
    "    \"https://www.epilepsy.com/\",\n",
    "    \"https://www.who.int/news-room/fact-sheets/detail/epilepsy\"\n",
    "    \"https://epilepsyontario.org/about-epilepsy/frequently-asked-questions/\"\n",
    "\n",
    "]\n",
    "\n",
    "scraped_data = []\n",
    "\n",
    "# Custom headers to mimic a real browser\n",
    "headers = {\n",
    "    \"User-Agent\": \"Mozilla/5.0 (Windows NT 10.0; Win64; x64) AppleWebKit/537.36 (KHTML, like Gecko) Chrome/91.0.4472.124 Safari/537.36\",\n",
    "    \"Accept-Language\": \"en-US,en;q=0.9\",\n",
    "    \"Referer\": \"https://www.google.com\",\n",
    "}\n",
    "\n",
    "def scrape_website(url):\n",
    "    try:\n",
    "        response = requests.get(url, headers=headers, timeout=10)\n",
    "        response.raise_for_status()  # Raises an error for 4xx and 5xx status codes\n",
    "        \n",
    "        soup = BeautifulSoup(response.text, \"lxml\")\n",
    "        paragraphs = soup.find_all(\"p\")\n",
    "        page_text = \"\\n\".join([para.get_text() for para in paragraphs])\n",
    "\n",
    "        return page_text\n",
    "    except requests.RequestException as e:\n",
    "        print(f\"Error scraping {url}: {e}\")\n",
    "        return \"\"\n",
    "\n",
    "\n",
    "# Scrape all URLs\n",
    "for url in urls:\n",
    "    scraped_content = scrape_website(url)\n",
    "    if scraped_content:\n",
    "        scraped_data.append(scraped_content)\n",
    "\n",
    "# Save scraped text for later use\n",
    "with open(\"epilepsy_data.txt\", \"w\", encoding=\"utf-8\") as f:\n",
    "    f.write(\"\\n\\n\".join(scraped_data))\n",
    "\n",
    "print(\"Scraping completed and saved to epilepsy_data.txt\")\n"
   ]
  },
  {
   "cell_type": "code",
   "execution_count": 25,
   "metadata": {},
   "outputs": [
    {
     "name": "stdout",
     "output_type": "stream",
     "text": [
      "Data successfully embedded and stored in ChromaDB.\n"
     ]
    }
   ],
   "source": [
    "import chromadb\n",
    "from langchain.vectorstores import Chroma\n",
    "from langchain.text_splitter import RecursiveCharacterTextSplitter\n",
    "from langchain.embeddings import HuggingFaceEmbeddings\n",
    "from langchain.docstore.document import Document\n",
    "\n",
    "# Load scraped text\n",
    "with open(\"epilepsy_data.txt\", \"r\", encoding=\"utf-8\") as f:\n",
    "    epilepsy_content = f.read()\n",
    "\n",
    "# Split text into small chunks\n",
    "text_splitter = RecursiveCharacterTextSplitter(chunk_size=500, chunk_overlap=100)\n",
    "text_chunks = text_splitter.split_text(epilepsy_content)\n",
    "\n",
    "# Convert text chunks to LangChain Document objects\n",
    "documents = [Document(page_content=chunk) for chunk in text_chunks]\n",
    "\n",
    "# Load Hugging Face embeddings (FREE)\n",
    "embedding_function = HuggingFaceEmbeddings(model_name=\"sentence-transformers/all-MiniLM-L6-v2\")\n",
    "\n",
    "# Initialize ChromaDB using `from_documents()`\n",
    "vectorstore = Chroma.from_documents(documents, embedding_function, persist_directory=\"./chromadb\")\n",
    "\n",
    "print(\"Data successfully embedded and stored in ChromaDB.\")\n"
   ]
  },
  {
   "cell_type": "code",
   "execution_count": null,
   "metadata": {},
   "outputs": [],
   "source": []
  }
 ],
 "metadata": {
  "kernelspec": {
   "display_name": "venv",
   "language": "python",
   "name": "python3"
  },
  "language_info": {
   "codemirror_mode": {
    "name": "ipython",
    "version": 3
   },
   "file_extension": ".py",
   "mimetype": "text/x-python",
   "name": "python",
   "nbconvert_exporter": "python",
   "pygments_lexer": "ipython3",
   "version": "3.11.0"
  }
 },
 "nbformat": 4,
 "nbformat_minor": 2
}
